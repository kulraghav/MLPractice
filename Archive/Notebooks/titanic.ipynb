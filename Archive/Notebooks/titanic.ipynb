{
 "cells": [
  {
   "cell_type": "code",
   "execution_count": 74,
   "metadata": {},
   "outputs": [
    {
     "data": {
      "text/plain": [
       "'\\n    first-cut: RandomForest on clean columns\\n'"
      ]
     },
     "execution_count": 74,
     "metadata": {},
     "output_type": "execute_result"
    }
   ],
   "source": [
    "\"\"\"\n",
    "    first-cut: RandomForest on clean columns\n",
    "\"\"\""
   ]
  },
  {
   "cell_type": "code",
   "execution_count": 78,
   "metadata": {},
   "outputs": [],
   "source": [
    "def select_columns(df):\n",
    "    columns = df.columns.tolist()\n",
    "    columns.remove('PassengerId')\n",
    "    columns.remove('Name')\n",
    "    columns.remove('Age')\n",
    "    columns.remove('Cabin')\n",
    "    columns.remove('Ticket')\n",
    "    return columns\n",
    "\n",
    "def clean(df):\n",
    "    \"\"\"\n",
    "        select desired columns and drop the rest\n",
    "    \"\"\"\n",
    "    columns = select_columns(df)\n",
    "    df = df[columns]\n",
    "    \n",
    "    \"\"\"\n",
    "         imputation: replace/drop na values\n",
    "    \"\"\"\n",
    "    df['Embarked'].fillna('S', inplace=True)\n",
    "    \n",
    "    return df"
   ]
  },
  {
   "cell_type": "code",
   "execution_count": 79,
   "metadata": {},
   "outputs": [],
   "source": [
    "from sklearn.model_selection import train_test_split\n",
    "from sklearn.preprocessing import LabelEncoder\n",
    "\n",
    "def get_features(df):\n",
    "    features = df.columns.tolist()\n",
    "    features.remove('Survived')\n",
    "    \n",
    "    categorical_features = [feature for feature in features]\n",
    "    categorical_features.remove('Fare')\n",
    "    \n",
    "    numerical_features = ['Fare']\n",
    "    return categorical_features, numerical_features\n",
    "\n",
    "def encode(df_cat):\n",
    "    return df_cat.apply(LabelEncoder().fit_transform)\n",
    "\n",
    "def get_feature_vector(df):\n",
    "    categorical_features, numerical_features = get_features(df)\n",
    "    \n",
    "    X_cat = encode(df[categorical_features])\n",
    "    X_num = df[numerical_features]\n",
    "    \n",
    "    X = pd.concat([X_cat, X_num], axis=1)\n",
    "    \n",
    "    return X\n",
    "\n",
    "def get_label_vector(df):\n",
    "    y = df['Survived']\n",
    "    return y"
   ]
  },
  {
   "cell_type": "code",
   "execution_count": 102,
   "metadata": {},
   "outputs": [
    {
     "name": "stderr",
     "output_type": "stream",
     "text": [
      "/home/raghav/anaconda3/lib/python3.6/site-packages/pandas/core/generic.py:5434: SettingWithCopyWarning: \n",
      "A value is trying to be set on a copy of a slice from a DataFrame\n",
      "\n",
      "See the caveats in the documentation: http://pandas.pydata.org/pandas-docs/stable/indexing.html#indexing-view-versus-copy\n",
      "  self._update_inplace(new_data)\n"
     ]
    }
   ],
   "source": [
    "import pandas as pd\n",
    "\n",
    "df = pd.read_csv('../Data/titanic/train.csv')\n",
    "\n",
    "df = clean(df)\n",
    "\n",
    "X = get_feature_vector(df)\n",
    "y = get_label_vector(df)\n",
    "\n",
    "X_train, X_test, y_train, y_test = train_test_split(X, y)\n",
    "\n",
    "from sklearn.model_selection import cross_val_score\n",
    "def train(model, X_train, y_train):\n",
    "    model.fit(X_train, y_train)\n",
    "    print(\"cross-validation scores: {}\".format(cross_val_score(rf, X_train, y_train, cv=5)))\n",
    "    return model\n",
    "\n",
    "from sklearn.metrics import accuracy_score\n",
    "from sklearn.metrics import confusion_matrix\n",
    "def test(model, X_test, y_test):\n",
    "    y_pred = model.predict(X_test)\n",
    "    print(\"accuracy: {}\".format(accuracy_score(y_pred, y_test)))\n",
    "    print(pd.DataFrame(confusion_matrix(y_pred, y_test), \n",
    "             index=['true died', 'true survived'], \n",
    "             columns=['pred died', 'pred survied']))\n",
    "    \n",
    "   "
   ]
  },
  {
   "cell_type": "code",
   "execution_count": 103,
   "metadata": {},
   "outputs": [
    {
     "name": "stdout",
     "output_type": "stream",
     "text": [
      "cross-validation scores: [0.76865672 0.8358209  0.80597015 0.80597015 0.81818182]\n",
      "accuracy: 0.8071748878923767\n",
      "               pred died  pred survied\n",
      "true died            124            37\n",
      "true survived          6            56\n"
     ]
    }
   ],
   "source": [
    "from sklearn.ensemble import RandomForestClassifier\n",
    "rf = RandomForestClassifier(max_depth=4, min_samples_leaf=10, n_estimators=40)\n",
    "train(rf, X_train, y_train)\n",
    "test(rf, X_test, y_test)"
   ]
  },
  {
   "cell_type": "code",
   "execution_count": null,
   "metadata": {},
   "outputs": [],
   "source": []
  }
 ],
 "metadata": {
  "kernelspec": {
   "display_name": "Python 3",
   "language": "python",
   "name": "python3"
  },
  "language_info": {
   "codemirror_mode": {
    "name": "ipython",
    "version": 3
   },
   "file_extension": ".py",
   "mimetype": "text/x-python",
   "name": "python",
   "nbconvert_exporter": "python",
   "pygments_lexer": "ipython3",
   "version": "3.6.7"
  }
 },
 "nbformat": 4,
 "nbformat_minor": 2
}
