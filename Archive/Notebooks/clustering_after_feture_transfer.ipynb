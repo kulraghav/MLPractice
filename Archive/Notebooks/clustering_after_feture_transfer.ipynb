{
 "cells": [
  {
   "cell_type": "markdown",
   "metadata": {},
   "source": [
    "# References\n",
    "\n",
    "https://medium.com/@franky07724_57962/using-keras-pre-trained-models-for-feature-extraction-in-image-clustering-a142c6cdf5b1\n",
    "\n",
    "https://scikit-learn.org/stable/modules/clustering.html\n",
    "\n",
    "https://scikit-learn.org/stable/modules/clustering.html#silhouette-coefficient\n",
    "\n",
    "https://scikit-learn.org/stable/auto_examples/cluster/plot_kmeans_silhouette_analysis.html#sphx-glr-auto-examples-cluster-plot-kmeans-silhouette-analysis-py\n",
    "\n",
    "https://en.wikipedia.org/wiki/Silhouette_(clustering)\n",
    "\n",
    "Does adding k-means clusters as features improve the performance?\n",
    "https://towardsdatascience.com/how-to-create-new-features-using-clustering-4ae772387290"
   ]
  },
  {
   "cell_type": "code",
   "execution_count": 60,
   "metadata": {},
   "outputs": [],
   "source": [
    "from keras.preprocessing import image\n",
    "from keras.applications.vgg16 import VGG16\n",
    "from keras.applications.vgg16 import preprocess_input\n",
    "import numpy as np"
   ]
  },
  {
   "cell_type": "code",
   "execution_count": 61,
   "metadata": {},
   "outputs": [
    {
     "data": {
      "text/plain": [
       "['../Data/hymenoptera_data/train/bees/2728759455_ce9bb8cd7a.jpg',\n",
       " '../Data/hymenoptera_data/train/bees/1092977343_cb42b38d62.jpg',\n",
       " '../Data/hymenoptera_data/train/bees/1807583459_4fe92b3133.jpg',\n",
       " '../Data/hymenoptera_data/train/bees/2962405283_22718d9617.jpg',\n",
       " '../Data/hymenoptera_data/train/bees/150013791_969d9a968b.jpg']"
      ]
     },
     "execution_count": 61,
     "metadata": {},
     "output_type": "execute_result"
    }
   ],
   "source": [
    "data_dir = \"../Data/hymenoptera_data/train\"\n",
    "\n",
    "import os\n",
    "def get_file_paths(data_dir):\n",
    "    classes = os.listdir(data_dir)\n",
    "    \n",
    "    file_paths = []\n",
    "    for classname in classes:\n",
    "        file_paths = file_paths +  [(data_dir + \"/\" + classname + \"/\" + filename) for filename in list(os.listdir(data_dir + \"/\" + classname))]\n",
    "        \n",
    "    return file_paths  \n",
    "\n",
    "get_file_paths(data_dir)[:5]"
   ]
  },
  {
   "cell_type": "code",
   "execution_count": 62,
   "metadata": {},
   "outputs": [],
   "source": [
    "from keras.preprocessing.image import load_img, img_to_array\n",
    "def get_features(file_paths, model=None):\n",
    "    features = []\n",
    "    for file_path in file_paths:\n",
    "        image_path = file_path\n",
    "        img = load_img(image_path, target_size=(224, 224))\n",
    "        img_data = img_to_array(img)\n",
    "        if not model:\n",
    "            feature = np.array(img_data)\n",
    "        else:\n",
    "            img_data = np.expand_dims(img_data, axis=0)\n",
    "            img_data = preprocess_input(img_data)\n",
    "            feature = model.predict(img_data)\n",
    "            feature = np.array(feature)\n",
    "            \n",
    "        features.append(feature.flatten()) \n",
    "    return features    "
   ]
  },
  {
   "cell_type": "code",
   "execution_count": 63,
   "metadata": {},
   "outputs": [],
   "source": [
    "def get_silhouette_score(X, k=2):\n",
    "    kmeans = KMeans(n_clusters=k, random_state=42).fit(X)\n",
    "    labels = kmeans.labels_\n",
    "    return silhouette_score(X, labels, metric='euclidean')"
   ]
  },
  {
   "cell_type": "code",
   "execution_count": 65,
   "metadata": {},
   "outputs": [
    {
     "name": "stdout",
     "output_type": "stream",
     "text": [
      "0.16087884\n",
      "0.077358685\n"
     ]
    }
   ],
   "source": [
    "\"\"\"\n",
    "    Testing whether vgg16 last layer features improve \n",
    "    the silhouette_score of clusters obtained by k-means\n",
    "\"\"\"\n",
    "\n",
    "\n",
    "vgg16_model = VGG16(weights='imagenet', include_top=False)\n",
    "\n",
    "file_paths = get_file_paths(data_dir)\n",
    "\n",
    "X = get_features(file_paths) \n",
    "print(get_silhouette_score(X, 2))\n",
    "X = get_features(file_paths, vgg16_model)\n",
    "print(get_silhouette_score(X, 2))"
   ]
  },
  {
   "cell_type": "code",
   "execution_count": null,
   "metadata": {},
   "outputs": [],
   "source": [
    "\"\"\"\n",
    "    Looks like vgg16 features did not improve silhouette score\n",
    "\"\"\""
   ]
  }
 ],
 "metadata": {
  "kernelspec": {
   "display_name": "(tf_gpu) Python3",
   "language": "python",
   "name": "tf_gpu"
  },
  "language_info": {
   "codemirror_mode": {
    "name": "ipython",
    "version": 3
   },
   "file_extension": ".py",
   "mimetype": "text/x-python",
   "name": "python",
   "nbconvert_exporter": "python",
   "pygments_lexer": "ipython3",
   "version": "3.6.7"
  }
 },
 "nbformat": 4,
 "nbformat_minor": 2
}
