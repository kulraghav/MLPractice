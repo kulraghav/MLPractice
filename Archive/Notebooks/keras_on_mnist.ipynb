{
 "cells": [
  {
   "cell_type": "markdown",
   "metadata": {},
   "source": [
    "https://nextjournal.com/gkoehler/digit-recognition-with-keras\n",
    "\n",
    "https://stackoverflow.com/questions/34716454/where-do-i-call-the-batchnormalization-function-in-keras\n",
    "\n",
    "https://www.programcreek.com/python/example/104284/keras.optimizers.SGD\n",
    "\n"
   ]
  },
  {
   "cell_type": "code",
   "execution_count": 3,
   "metadata": {},
   "outputs": [
    {
     "data": {
      "text/plain": [
       "'.'"
      ]
     },
     "execution_count": 3,
     "metadata": {},
     "output_type": "execute_result"
    }
   ],
   "source": [
    "from keras.datasets import mnist\n",
    "mnist.load_data()\n",
    "'.'"
   ]
  },
  {
   "cell_type": "code",
   "execution_count": 17,
   "metadata": {},
   "outputs": [],
   "source": [
    "# imports for array-handling and plotting\n",
    "# imports for array-handling and plotting\n",
    "import numpy as np\n",
    "import matplotlib\n",
    "#matplotlib.use('agg')\n",
    "import matplotlib.pyplot as plt"
   ]
  },
  {
   "cell_type": "code",
   "execution_count": 29,
   "metadata": {},
   "outputs": [],
   "source": [
    "# keras imports for the dataset and building our neural network\n",
    "from keras.datasets import mnist\n",
    "from keras.models import Sequential, load_model\n",
    "from keras.layers.core import Dense, Dropout, Activation\n",
    "from keras.utils import np_utils\n",
    "from keras.layers.normalization import BatchNormalization"
   ]
  },
  {
   "cell_type": "code",
   "execution_count": 30,
   "metadata": {},
   "outputs": [],
   "source": [
    "(X_train, y_train), (X_test, y_test) = mnist.load_data()"
   ]
  },
  {
   "cell_type": "code",
   "execution_count": 31,
   "metadata": {},
   "outputs": [
    {
     "name": "stdout",
     "output_type": "stream",
     "text": [
      "X_train shape (60000, 28, 28)\n",
      "y_train shape (60000,)\n",
      "X_test shape (10000, 28, 28)\n",
      "y_test shape (10000,)\n",
      "Train matrix shape (60000, 784)\n",
      "Test matrix shape (10000, 784)\n"
     ]
    }
   ],
   "source": [
    "# let's print the shape before we reshape and normalize\n",
    "print(\"X_train shape\", X_train.shape)\n",
    "print(\"y_train shape\", y_train.shape)\n",
    "print(\"X_test shape\", X_test.shape)\n",
    "print(\"y_test shape\", y_test.shape)\n",
    "\n",
    "# building the input vector from the 28x28 pixels\n",
    "X_train = X_train.reshape(60000, 784)\n",
    "X_test = X_test.reshape(10000, 784)\n",
    "X_train = X_train.astype('float32')\n",
    "X_test = X_test.astype('float32')\n",
    "\n",
    "# normalizing the data to help with the training\n",
    "X_train /= 255\n",
    "X_test /= 255\n",
    "\n",
    "# print the final input shape ready for training\n",
    "print(\"Train matrix shape\", X_train.shape)\n",
    "print(\"Test matrix shape\", X_test.shape)"
   ]
  },
  {
   "cell_type": "code",
   "execution_count": 32,
   "metadata": {},
   "outputs": [
    {
     "name": "stdout",
     "output_type": "stream",
     "text": [
      "(array([0, 1, 2, 3, 4, 5, 6, 7, 8, 9], dtype=uint8), array([5923, 6742, 5958, 6131, 5842, 5421, 5918, 6265, 5851, 5949]))\n"
     ]
    }
   ],
   "source": [
    "print(np.unique(y_train, return_counts=True))"
   ]
  },
  {
   "cell_type": "code",
   "execution_count": 33,
   "metadata": {},
   "outputs": [
    {
     "name": "stdout",
     "output_type": "stream",
     "text": [
      "Shape before one-hot encoding:  (60000,)\n",
      "Shape after one-hot encoding:  (60000, 10)\n"
     ]
    }
   ],
   "source": [
    "# one-hot encoding using keras' numpy-related utilities\n",
    "n_classes = 10\n",
    "print(\"Shape before one-hot encoding: \", y_train.shape)\n",
    "Y_train = np_utils.to_categorical(y_train, n_classes)\n",
    "Y_test = np_utils.to_categorical(y_test, n_classes)\n",
    "print(\"Shape after one-hot encoding: \", Y_train.shape)"
   ]
  },
  {
   "cell_type": "code",
   "execution_count": 34,
   "metadata": {},
   "outputs": [],
   "source": [
    "\n",
    "# building a linear stack of layers with the sequential model\n",
    "model = Sequential()\n",
    "model.add(Dense(512, input_shape=(784,)))\n",
    "model.add(BatchNormalization())\n",
    "model.add(Activation('relu'))                            \n",
    "model.add(Dropout(0.2))\n",
    "\n",
    "model.add(Dense(512))\n",
    "model.add(BatchNormalization())\n",
    "model.add(Activation('relu'))\n",
    "model.add(Dropout(0.2))\n",
    "\n",
    "model.add(Dense(10))\n",
    "model.add(Activation('softmax'))"
   ]
  },
  {
   "cell_type": "code",
   "execution_count": 40,
   "metadata": {},
   "outputs": [],
   "source": [
    "from keras.optimizers import SGD\n",
    "\n",
    "# setting up the optimization of our weights \n",
    "sgd = SGD(lr=0.1, decay=1e-6, momentum=0.9, nesterov=True)\n",
    "model.compile(loss='binary_crossentropy', optimizer=sgd, metrics=['accuracy'])"
   ]
  },
  {
   "cell_type": "code",
   "execution_count": 41,
   "metadata": {},
   "outputs": [
    {
     "name": "stdout",
     "output_type": "stream",
     "text": [
      "Train on 60000 samples, validate on 10000 samples\n",
      "Epoch 1/20\n",
      " - 2s - loss: 3.4639e-04 - acc: 0.9999 - val_loss: 0.0094 - val_acc: 0.9974\n",
      "Epoch 2/20\n",
      " - 2s - loss: 4.0426e-04 - acc: 0.9999 - val_loss: 0.0095 - val_acc: 0.9974\n",
      "Epoch 3/20\n",
      " - 2s - loss: 3.9713e-04 - acc: 0.9999 - val_loss: 0.0096 - val_acc: 0.9973\n",
      "Epoch 4/20\n",
      " - 2s - loss: 3.8684e-04 - acc: 0.9999 - val_loss: 0.0094 - val_acc: 0.9974\n",
      "Epoch 5/20\n",
      " - 2s - loss: 3.6120e-04 - acc: 0.9999 - val_loss: 0.0095 - val_acc: 0.9974\n",
      "Epoch 6/20\n",
      " - 2s - loss: 3.2104e-04 - acc: 0.9999 - val_loss: 0.0094 - val_acc: 0.9974\n",
      "Epoch 7/20\n",
      " - 2s - loss: 3.7182e-04 - acc: 0.9999 - val_loss: 0.0094 - val_acc: 0.9974\n",
      "Epoch 8/20\n",
      " - 2s - loss: 3.1405e-04 - acc: 0.9999 - val_loss: 0.0095 - val_acc: 0.9974\n",
      "Epoch 9/20\n",
      " - 2s - loss: 3.3809e-04 - acc: 0.9999 - val_loss: 0.0096 - val_acc: 0.9974\n",
      "Epoch 10/20\n",
      " - 2s - loss: 3.3685e-04 - acc: 0.9999 - val_loss: 0.0094 - val_acc: 0.9974\n",
      "Epoch 11/20\n",
      " - 2s - loss: 3.6184e-04 - acc: 0.9999 - val_loss: 0.0095 - val_acc: 0.9974\n",
      "Epoch 12/20\n",
      " - 2s - loss: 2.8643e-04 - acc: 0.9999 - val_loss: 0.0095 - val_acc: 0.9974\n",
      "Epoch 13/20\n",
      " - 2s - loss: 2.8533e-04 - acc: 0.9999 - val_loss: 0.0096 - val_acc: 0.9974\n",
      "Epoch 14/20\n",
      " - 2s - loss: 3.4084e-04 - acc: 0.9999 - val_loss: 0.0095 - val_acc: 0.9975\n",
      "Epoch 15/20\n",
      " - 2s - loss: 3.3454e-04 - acc: 0.9999 - val_loss: 0.0096 - val_acc: 0.9974\n",
      "Epoch 16/20\n",
      " - 2s - loss: 2.9377e-04 - acc: 0.9999 - val_loss: 0.0097 - val_acc: 0.9975\n",
      "Epoch 17/20\n",
      " - 2s - loss: 3.3323e-04 - acc: 0.9999 - val_loss: 0.0098 - val_acc: 0.9974\n",
      "Epoch 18/20\n",
      " - 2s - loss: 2.8281e-04 - acc: 0.9999 - val_loss: 0.0097 - val_acc: 0.9974\n",
      "Epoch 19/20\n",
      " - 2s - loss: 3.3268e-04 - acc: 0.9999 - val_loss: 0.0097 - val_acc: 0.9974\n",
      "Epoch 20/20\n",
      " - 2s - loss: 2.9463e-04 - acc: 0.9999 - val_loss: 0.0097 - val_acc: 0.9974\n"
     ]
    }
   ],
   "source": [
    "# training the model and saving metrics in history\n",
    "history = model.fit(X_train, Y_train,\n",
    "          batch_size=128, epochs=20,\n",
    "          verbose=2,\n",
    "          validation_data=(X_test, Y_test))"
   ]
  },
  {
   "cell_type": "code",
   "execution_count": null,
   "metadata": {},
   "outputs": [],
   "source": []
  },
  {
   "cell_type": "code",
   "execution_count": null,
   "metadata": {},
   "outputs": [],
   "source": []
  }
 ],
 "metadata": {
  "kernelspec": {
   "display_name": "(tf_gpu) Python3",
   "language": "python",
   "name": "tf_gpu"
  },
  "language_info": {
   "codemirror_mode": {
    "name": "ipython",
    "version": 3
   },
   "file_extension": ".py",
   "mimetype": "text/x-python",
   "name": "python",
   "nbconvert_exporter": "python",
   "pygments_lexer": "ipython3",
   "version": "3.6.7"
  }
 },
 "nbformat": 4,
 "nbformat_minor": 2
}
