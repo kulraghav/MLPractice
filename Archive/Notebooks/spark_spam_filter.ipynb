{
 "cells": [
  {
   "cell_type": "markdown",
   "metadata": {},
   "source": [
    "https://venukanaparthy.wordpress.com/2015/07/04/spam-classification-with-naive-bayes-using-spark-mllib/\n",
    "\n",
    "https://tomaxent.com/2017/04/25/Machine-Learning-with-MLlib-of-Spark/\n",
    "\n",
    "https://medium.com/@julsimon/building-a-spam-classifier-pyspark-mllib-vs-sagemaker-xgboost-1980158a900f\n"
   ]
  },
  {
   "cell_type": "code",
   "execution_count": 5,
   "metadata": {},
   "outputs": [],
   "source": [
    "import findspark\n",
    "findspark.init('/home/raghav/spark-2.4.0-bin-hadoop2.7/')\n",
    "from pyspark import SparkContext\n",
    "sc = SparkContext('local[*]', 'pyspark spam filter')"
   ]
  },
  {
   "cell_type": "code",
   "execution_count": 10,
   "metadata": {},
   "outputs": [
    {
     "name": "stdout",
     "output_type": "stream",
     "text": [
      "[['2,Free', 'entry', 'in', '2', 'a', 'wkly', 'comp', 'to', 'win', 'FA', 'Cup', 'final', 'tkts', '21st', 'May', '2005.', 'Text', 'FA', 'to', '87121', 'to', 'receive', 'entry', 'question(std', 'txt', \"rate)T&C's\", 'apply', \"08452810075over18's\"]]\n",
      "[['0,\"Go', 'until', 'jurong', 'point,', 'crazy..', 'Available', 'only', 'in', 'bugis', 'n', 'great', 'world', 'la', 'e', 'buffet...', 'Cine', 'there', 'got', 'amore', 'wat...\"']]\n"
     ]
    }
   ],
   "source": [
    "spam = sc.textFile(\"../Data/sms_spam/spam\")\n",
    "ham = sc.textFile(\"../Data/sms_spam/ham\") \n",
    "\n",
    "\n",
    "spam_words = spam.map(lambda email: email.split())\n",
    "ham_words = ham.map(lambda email: email.split())\n",
    "\n",
    "print(spam_words.take(1))\n",
    "print(ham_words.take(1))"
   ]
  },
  {
   "cell_type": "code",
   "execution_count": 14,
   "metadata": {},
   "outputs": [
    {
     "name": "stdout",
     "output_type": "stream",
     "text": [
      "[SparseVector(1000, {4: 1.0, 52: 1.0, 162: 1.0, 261: 1.0, 289: 1.0, 309: 2.0, 359: 1.0, 365: 3.0, 368: 1.0, 389: 1.0, 408: 1.0, 505: 1.0, 524: 2.0, 530: 1.0, 542: 1.0, 547: 1.0, 569: 1.0, 571: 1.0, 588: 1.0, 627: 1.0, 633: 1.0, 655: 1.0, 665: 1.0, 783: 1.0})]\n",
      "[SparseVector(1000, {14: 1.0, 17: 1.0, 41: 1.0, 52: 1.0, 66: 1.0, 84: 1.0, 97: 1.0, 125: 1.0, 381: 1.0, 407: 1.0, 501: 1.0, 604: 1.0, 657: 1.0, 668: 1.0, 683: 1.0, 708: 1.0, 802: 1.0, 914: 1.0, 932: 1.0, 993: 1.0})]\n"
     ]
    }
   ],
   "source": [
    "from pyspark.mllib.feature import HashingTF, IDF\n",
    "\n",
    "tf = HashingTF(numFeatures = 1000)\n",
    "spam_features = tf.transform(spam_words)\n",
    "ham_features = tf.transform(ham_words)\n",
    "\n",
    "print(spam_features.take(1))\n",
    "print(ham_features.take(1))"
   ]
  },
  {
   "cell_type": "code",
   "execution_count": 16,
   "metadata": {},
   "outputs": [
    {
     "name": "stdout",
     "output_type": "stream",
     "text": [
      "[LabeledPoint(1.0, (1000,[4,52,162,261,289,309,359,365,368,389,408,505,524,530,542,547,569,571,588,627,633,655,665,783],[1.0,1.0,1.0,1.0,1.0,2.0,1.0,3.0,1.0,1.0,1.0,1.0,2.0,1.0,1.0,1.0,1.0,1.0,1.0,1.0,1.0,1.0,1.0,1.0]))]\n",
      "[LabeledPoint(0.0, (1000,[14,17,41,52,66,84,97,125,381,407,501,604,657,668,683,708,802,914,932,993],[1.0,1.0,1.0,1.0,1.0,1.0,1.0,1.0,1.0,1.0,1.0,1.0,1.0,1.0,1.0,1.0,1.0,1.0,1.0,1.0]))]\n"
     ]
    }
   ],
   "source": [
    "from pyspark.mllib.regression import LabeledPoint\n",
    "spam_samples = spam_features.map(lambda features:LabeledPoint(1, features))\n",
    "ham_samples = ham_features.map(lambda features:LabeledPoint(0, features))\n",
    "\n",
    "print(spam_samples.take(1))\n",
    "print(ham_samples.take(1))"
   ]
  },
  {
   "cell_type": "code",
   "execution_count": 17,
   "metadata": {},
   "outputs": [
    {
     "data": {
      "text/plain": [
       "PythonRDD[32] at RDD at PythonRDD.scala:53"
      ]
     },
     "execution_count": 17,
     "metadata": {},
     "output_type": "execute_result"
    }
   ],
   "source": [
    "samples = spam_samples.union(ham_samples)\n",
    "[training_data, test_data] = samples.randomSplit([0.8, 0.2])\n",
    "training_data.cache()\n",
    "test_data.cache()"
   ]
  },
  {
   "cell_type": "code",
   "execution_count": 19,
   "metadata": {},
   "outputs": [],
   "source": [
    "def score(model):\n",
    "    predictions = model.predict(test_data.map(lambda x: x.features))\n",
    "    labels_and_preds = test_data.map(lambda x: x.label).zip(predictions)\n",
    "    accuracy = labels_and_preds.filter(lambda x: x[0] == x[1]).count() / float(test_data.count())\n",
    "    return accuracy"
   ]
  },
  {
   "cell_type": "code",
   "execution_count": 21,
   "metadata": {},
   "outputs": [
    {
     "name": "stdout",
     "output_type": "stream",
     "text": [
      "0.8960645812310797\n",
      "0.8748738647830474\n"
     ]
    }
   ],
   "source": [
    "from pyspark.mllib.classification import LogisticRegressionWithSGD, LogisticRegressionWithLBFGS\n",
    "\n",
    "algo = LogisticRegressionWithSGD()\n",
    "model = algo.train(training_data)\n",
    "print(score(model))\n",
    "\n",
    "\n",
    "algo = LogisticRegressionWithLBFGS()\n",
    "model = algo.train(training_data)\n",
    "print(score(model))"
   ]
  },
  {
   "cell_type": "code",
   "execution_count": null,
   "metadata": {},
   "outputs": [],
   "source": []
  }
 ],
 "metadata": {
  "kernelspec": {
   "display_name": "Python 3",
   "language": "python",
   "name": "python3"
  },
  "language_info": {
   "codemirror_mode": {
    "name": "ipython",
    "version": 3
   },
   "file_extension": ".py",
   "mimetype": "text/x-python",
   "name": "python",
   "nbconvert_exporter": "python",
   "pygments_lexer": "ipython3",
   "version": "3.6.7"
  }
 },
 "nbformat": 4,
 "nbformat_minor": 2
}
